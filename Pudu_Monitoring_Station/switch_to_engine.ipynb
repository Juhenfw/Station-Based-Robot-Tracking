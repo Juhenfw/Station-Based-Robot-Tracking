{
 "cells": [
  {
   "cell_type": "code",
   "execution_count": 8,
   "id": "577287b4",
   "metadata": {},
   "outputs": [
    {
     "name": "stdout",
     "output_type": "stream",
     "text": [
      "Ultralytics 8.3.146  Python-3.10.14 torch-2.5.1+cu121 CUDA:0 (NVIDIA GeForce RTX 4060, 8188MiB)\n",
      "Model summary (fused): 72 layers, 3,006,428 parameters, 0 gradients, 8.1 GFLOPs\n",
      "\n",
      "\u001b[34m\u001b[1mPyTorch:\u001b[0m starting from 'PuduSenban_trained.pt' with input shape (1, 3, 640, 640) BCHW and output shape(s) (1, 8, 8400) (6.0 MB)\n",
      "\n",
      "\u001b[34m\u001b[1mONNX:\u001b[0m starting export with onnx 1.17.0 opset 19...\n",
      "\u001b[34m\u001b[1mONNX:\u001b[0m slimming with onnxslim 0.1.53...\n",
      "\u001b[34m\u001b[1mONNX:\u001b[0m export success  0.6s, saved as 'PuduSenban_trained.onnx' (11.7 MB)\n",
      "\n",
      "\u001b[34m\u001b[1mTensorRT:\u001b[0m starting export with TensorRT 10.10.0.31...\n",
      "\u001b[34m\u001b[1mTensorRT:\u001b[0m input \"images\" with shape(1, 3, 640, 640) DataType.FLOAT\n",
      "\u001b[34m\u001b[1mTensorRT:\u001b[0m output \"output0\" with shape(1, 8, 8400) DataType.FLOAT\n",
      "\u001b[34m\u001b[1mTensorRT:\u001b[0m building FP16 engine as PuduSenban_trained.engine\n",
      "\u001b[34m\u001b[1mTensorRT:\u001b[0m export success  208.3s, saved as 'PuduSenban_trained.engine' (9.6 MB)\n",
      "\n",
      "Export complete (208.4s)\n",
      "Results saved to \u001b[1mD:\\DATA\\FOR_DL\\objectdetection\\magang2025\\Pudu_Monitoring_Station\u001b[0m\n",
      "Predict:         yolo predict task=detect model=PuduSenban_trained.engine imgsz=640 half \n",
      "Validate:        yolo val task=detect model=PuduSenban_trained.engine imgsz=640 data=D:/DATA/FOR_DL/objectdetection/magang2025/PuduRobot_ver2/data.yaml half \n",
      "Visualize:       https://netron.app\n"
     ]
    },
    {
     "data": {
      "text/plain": [
       "'PuduSenban_trained.engine'"
      ]
     },
     "execution_count": 8,
     "metadata": {},
     "output_type": "execute_result"
    }
   ],
   "source": [
    "from ultralytics import YOLO\n",
    "\n",
    "model = YOLO('PuduSenban_trained.pt')\n",
    "\n",
    "# Export dengan optimasi maksimal untuk kecepatan\n",
    "model.export(\n",
    "    format='engine',\n",
    "    device=0,\n",
    "    half=True,           # FP16 untuk kecepatan\n",
    "    batch=1,           # Ukuran batch untuk throughput\n",
    "    workspace=4,        # Memori workspace (GB)\n",
    "    imgsz=640,          # Ukuran input\n",
    "    verbose=False\n",
    ")"
   ]
  },
  {
   "cell_type": "code",
   "execution_count": 7,
   "id": "1158dcfe",
   "metadata": {},
   "outputs": [
    {
     "name": "stdout",
     "output_type": "stream",
     "text": [
      "TensorRT version: 10.10.0.31\n"
     ]
    }
   ],
   "source": [
    "import tensorrt as trt\n",
    "print(\"TensorRT version:\", trt.__version__)"
   ]
  }
 ],
 "metadata": {
  "kernelspec": {
   "display_name": "magang2025",
   "language": "python",
   "name": "python3"
  },
  "language_info": {
   "codemirror_mode": {
    "name": "ipython",
    "version": 3
   },
   "file_extension": ".py",
   "mimetype": "text/x-python",
   "name": "python",
   "nbconvert_exporter": "python",
   "pygments_lexer": "ipython3",
   "version": "3.10.14"
  }
 },
 "nbformat": 4,
 "nbformat_minor": 5
}
